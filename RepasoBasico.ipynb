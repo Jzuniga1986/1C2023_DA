{
 "cells": [
  {
   "cell_type": "markdown",
   "id": "0c529fa0",
   "metadata": {},
   "source": [
    "<h1> Repaso de Python </h1>\n",
    "<p> Recapitulando los conceptos importantes de python para aplicarlos en analisis de datos </p>"
   ]
  },
  {
   "cell_type": "code",
   "execution_count": 1,
   "id": "3efd5757",
   "metadata": {},
   "outputs": [],
   "source": [
    "edad = 0\n",
    "estatura = 5\n",
    "nombre = \"Josue\"\n",
    "inicial = 'j'\n",
    "logica = False"
   ]
  },
  {
   "cell_type": "markdown",
   "id": "872aaf03",
   "metadata": {},
   "source": [
    "<h2>Uso del IF </h2>"
   ]
  },
  {
   "cell_type": "code",
   "execution_count": 2,
   "id": "bed388e8",
   "metadata": {},
   "outputs": [
    {
     "name": "stdout",
     "output_type": "stream",
     "text": [
      "hola Josue\n"
     ]
    }
   ],
   "source": [
    "if nombre == \"Josue\":\n",
    "    print (\"hola Josue\")\n",
    "else:\n",
    "    print (\"No es\")"
   ]
  },
  {
   "cell_type": "markdown",
   "id": "0621fb46",
   "metadata": {},
   "source": [
    "<h2>Uso de Ciclo For </h2>"
   ]
  },
  {
   "cell_type": "code",
   "execution_count": 3,
   "id": "e75a589f",
   "metadata": {},
   "outputs": [
    {
     "name": "stdout",
     "output_type": "stream",
     "text": [
      "4\n",
      "78\n",
      "9\n",
      "84\n"
     ]
    }
   ],
   "source": [
    "nums = [4, 78, 9, 84]\n",
    "for n in nums:\n",
    "    print(n)"
   ]
  },
  {
   "cell_type": "code",
   "execution_count": 4,
   "id": "01d2ed89",
   "metadata": {},
   "outputs": [
    {
     "name": "stdout",
     "output_type": "stream",
     "text": [
      "4\n",
      "2\n",
      "0\n"
     ]
    }
   ],
   "source": [
    "valores = {'A':4, 'B':2, 'C':0}\n",
    "for v in valores.values():\n",
    "    print (v)"
   ]
  },
  {
   "cell_type": "code",
   "execution_count": 5,
   "id": "92557f5e",
   "metadata": {},
   "outputs": [
    {
     "name": "stdout",
     "output_type": "stream",
     "text": [
      "t =  A  u = 4\n",
      "t =  B  u = 2\n",
      "t =  C  u = 0\n"
     ]
    }
   ],
   "source": [
    "valores = {'A':4, 'B':2, 'C':0}\n",
    "for t, u in valores.items():\n",
    "    print (\"t = \", t, \" u =\", u)"
   ]
  },
  {
   "cell_type": "code",
   "execution_count": 6,
   "id": "ffcdb3c2",
   "metadata": {},
   "outputs": [
    {
     "name": "stdout",
     "output_type": "stream",
     "text": [
      "0\n",
      "1\n",
      "2\n",
      "3\n",
      "4\n",
      "5\n",
      "6\n",
      "7\n",
      "8\n",
      "9\n"
     ]
    }
   ],
   "source": [
    "for i in range (10):\n",
    "    print (i)"
   ]
  },
  {
   "cell_type": "code",
   "execution_count": 7,
   "id": "c3af569a",
   "metadata": {},
   "outputs": [
    {
     "name": "stdout",
     "output_type": "stream",
     "text": [
      "0\n",
      "2\n",
      "4\n",
      "6\n",
      "8\n",
      "10\n"
     ]
    }
   ],
   "source": [
    "for y in range (0, 11, 2):\n",
    "    print (y)"
   ]
  },
  {
   "cell_type": "markdown",
   "id": "90e91bba",
   "metadata": {},
   "source": [
    "<h2>Uso de Ciclo While </h2>"
   ]
  },
  {
   "cell_type": "code",
   "execution_count": 8,
   "id": "2b2a7a79",
   "metadata": {},
   "outputs": [
    {
     "name": "stdout",
     "output_type": "stream",
     "text": [
      "Hola\n"
     ]
    }
   ],
   "source": [
    "while logica == False:\n",
    "    print (\"Hola\")\n",
    "    logica = True"
   ]
  },
  {
   "cell_type": "code",
   "execution_count": 9,
   "id": "3f3d372d",
   "metadata": {},
   "outputs": [
    {
     "data": {
      "text/plain": [
       "0"
      ]
     },
     "execution_count": 9,
     "metadata": {},
     "output_type": "execute_result"
    }
   ],
   "source": [
    "edad"
   ]
  },
  {
   "cell_type": "code",
   "execution_count": 11,
   "id": "e74a98d9",
   "metadata": {},
   "outputs": [
    {
     "name": "stdout",
     "output_type": "stream",
     "text": [
      "1\n",
      "2\n",
      "3\n",
      "4\n",
      "5\n",
      "6\n",
      "7\n",
      "8\n",
      "9\n",
      "10\n",
      "11\n"
     ]
    }
   ],
   "source": [
    "edad = 0\n",
    "while edad <= 10:\n",
    "    edad += 1\n",
    "    print (edad)"
   ]
  },
  {
   "cell_type": "code",
   "execution_count": 12,
   "id": "431b0568",
   "metadata": {},
   "outputs": [
    {
     "name": "stdout",
     "output_type": "stream",
     "text": [
      "1\n",
      "2\n",
      "3\n",
      "4\n",
      "5\n",
      "6\n",
      "7\n",
      "8\n",
      "9\n",
      "10\n"
     ]
    }
   ],
   "source": [
    "edad = 0\n",
    "while edad < 10:\n",
    "    edad += 1\n",
    "    print (edad)"
   ]
  },
  {
   "cell_type": "code",
   "execution_count": null,
   "id": "36ad0b3b",
   "metadata": {},
   "outputs": [],
   "source": []
  }
 ],
 "metadata": {
  "kernelspec": {
   "display_name": "Python 3 (ipykernel)",
   "language": "python",
   "name": "python3"
  },
  "language_info": {
   "codemirror_mode": {
    "name": "ipython",
    "version": 3
   },
   "file_extension": ".py",
   "mimetype": "text/x-python",
   "name": "python",
   "nbconvert_exporter": "python",
   "pygments_lexer": "ipython3",
   "version": "3.8.8"
  }
 },
 "nbformat": 4,
 "nbformat_minor": 5
}
